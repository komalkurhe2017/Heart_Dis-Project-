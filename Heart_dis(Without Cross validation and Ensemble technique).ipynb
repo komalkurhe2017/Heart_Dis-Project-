{
 "cells": [
  {
   "cell_type": "code",
   "execution_count": 1,
   "id": "5e25d8e8",
   "metadata": {},
   "outputs": [],
   "source": [
    "import pandas as pd\n",
    "import numpy as np\n",
    "from sklearn.metrics import accuracy_score \n"
   ]
  },
  {
   "cell_type": "code",
   "execution_count": 2,
   "id": "146de2d9",
   "metadata": {},
   "outputs": [],
   "source": [
    "Data=pd.read_csv(r\"C:\\Users\\Admin\\Downloads\\Heart_Dis.csv\")"
   ]
  },
  {
   "cell_type": "code",
   "execution_count": 3,
   "id": "b0a68499",
   "metadata": {},
   "outputs": [
    {
     "data": {
      "text/html": [
       "<div>\n",
       "<style scoped>\n",
       "    .dataframe tbody tr th:only-of-type {\n",
       "        vertical-align: middle;\n",
       "    }\n",
       "\n",
       "    .dataframe tbody tr th {\n",
       "        vertical-align: top;\n",
       "    }\n",
       "\n",
       "    .dataframe thead th {\n",
       "        text-align: right;\n",
       "    }\n",
       "</style>\n",
       "<table border=\"1\" class=\"dataframe\">\n",
       "  <thead>\n",
       "    <tr style=\"text-align: right;\">\n",
       "      <th></th>\n",
       "      <th>age</th>\n",
       "      <th>sex</th>\n",
       "      <th>cp</th>\n",
       "      <th>trestbps</th>\n",
       "      <th>chol</th>\n",
       "      <th>fbs</th>\n",
       "      <th>restecg</th>\n",
       "      <th>thalach</th>\n",
       "      <th>exang</th>\n",
       "      <th>oldpeak</th>\n",
       "      <th>slope</th>\n",
       "      <th>ca</th>\n",
       "      <th>thal</th>\n",
       "      <th>target</th>\n",
       "    </tr>\n",
       "  </thead>\n",
       "  <tbody>\n",
       "    <tr>\n",
       "      <th>0</th>\n",
       "      <td>52</td>\n",
       "      <td>1</td>\n",
       "      <td>0</td>\n",
       "      <td>125</td>\n",
       "      <td>212</td>\n",
       "      <td>0</td>\n",
       "      <td>1</td>\n",
       "      <td>168</td>\n",
       "      <td>0</td>\n",
       "      <td>1.0</td>\n",
       "      <td>2</td>\n",
       "      <td>2</td>\n",
       "      <td>3</td>\n",
       "      <td>0</td>\n",
       "    </tr>\n",
       "    <tr>\n",
       "      <th>1</th>\n",
       "      <td>53</td>\n",
       "      <td>1</td>\n",
       "      <td>0</td>\n",
       "      <td>140</td>\n",
       "      <td>203</td>\n",
       "      <td>1</td>\n",
       "      <td>0</td>\n",
       "      <td>155</td>\n",
       "      <td>1</td>\n",
       "      <td>3.1</td>\n",
       "      <td>0</td>\n",
       "      <td>0</td>\n",
       "      <td>3</td>\n",
       "      <td>0</td>\n",
       "    </tr>\n",
       "    <tr>\n",
       "      <th>2</th>\n",
       "      <td>70</td>\n",
       "      <td>1</td>\n",
       "      <td>0</td>\n",
       "      <td>145</td>\n",
       "      <td>174</td>\n",
       "      <td>0</td>\n",
       "      <td>1</td>\n",
       "      <td>125</td>\n",
       "      <td>1</td>\n",
       "      <td>2.6</td>\n",
       "      <td>0</td>\n",
       "      <td>0</td>\n",
       "      <td>3</td>\n",
       "      <td>0</td>\n",
       "    </tr>\n",
       "    <tr>\n",
       "      <th>3</th>\n",
       "      <td>61</td>\n",
       "      <td>1</td>\n",
       "      <td>0</td>\n",
       "      <td>148</td>\n",
       "      <td>203</td>\n",
       "      <td>0</td>\n",
       "      <td>1</td>\n",
       "      <td>161</td>\n",
       "      <td>0</td>\n",
       "      <td>0.0</td>\n",
       "      <td>2</td>\n",
       "      <td>1</td>\n",
       "      <td>3</td>\n",
       "      <td>0</td>\n",
       "    </tr>\n",
       "    <tr>\n",
       "      <th>4</th>\n",
       "      <td>62</td>\n",
       "      <td>0</td>\n",
       "      <td>0</td>\n",
       "      <td>138</td>\n",
       "      <td>294</td>\n",
       "      <td>1</td>\n",
       "      <td>1</td>\n",
       "      <td>106</td>\n",
       "      <td>0</td>\n",
       "      <td>1.9</td>\n",
       "      <td>1</td>\n",
       "      <td>3</td>\n",
       "      <td>2</td>\n",
       "      <td>0</td>\n",
       "    </tr>\n",
       "  </tbody>\n",
       "</table>\n",
       "</div>"
      ],
      "text/plain": [
       "   age  sex  cp  trestbps  chol  fbs  restecg  thalach  exang  oldpeak  slope  \\\n",
       "0   52    1   0       125   212    0        1      168      0      1.0      2   \n",
       "1   53    1   0       140   203    1        0      155      1      3.1      0   \n",
       "2   70    1   0       145   174    0        1      125      1      2.6      0   \n",
       "3   61    1   0       148   203    0        1      161      0      0.0      2   \n",
       "4   62    0   0       138   294    1        1      106      0      1.9      1   \n",
       "\n",
       "   ca  thal  target  \n",
       "0   2     3       0  \n",
       "1   0     3       0  \n",
       "2   0     3       0  \n",
       "3   1     3       0  \n",
       "4   3     2       0  "
      ]
     },
     "execution_count": 3,
     "metadata": {},
     "output_type": "execute_result"
    }
   ],
   "source": [
    "Data.head()"
   ]
  },
  {
   "cell_type": "code",
   "execution_count": 4,
   "id": "575833bf",
   "metadata": {},
   "outputs": [
    {
     "data": {
      "text/plain": [
       "1    526\n",
       "0    499\n",
       "Name: target, dtype: int64"
      ]
     },
     "execution_count": 4,
     "metadata": {},
     "output_type": "execute_result"
    }
   ],
   "source": [
    "Data['target'].value_counts()"
   ]
  },
  {
   "cell_type": "code",
   "execution_count": 5,
   "id": "376f1f19",
   "metadata": {},
   "outputs": [],
   "source": [
    "#Data is imbalance because count of target class is not balance count of 1 is larger than count of 0"
   ]
  },
  {
   "cell_type": "code",
   "execution_count": 6,
   "id": "b7124351",
   "metadata": {},
   "outputs": [],
   "source": [
    "x=Data.iloc[:,:-1].values\n",
    "y=Data.iloc[:,-1].values"
   ]
  },
  {
   "cell_type": "code",
   "execution_count": 7,
   "id": "f60b98fe",
   "metadata": {},
   "outputs": [],
   "source": [
    "#Balance the Data using Smote Technique"
   ]
  },
  {
   "cell_type": "code",
   "execution_count": 8,
   "id": "4ba2c1b8",
   "metadata": {},
   "outputs": [],
   "source": [
    "from imblearn.over_sampling import SMOTE\n",
    "S=SMOTE()\n",
    "x_data,y_data=S.fit_resample(x,y)"
   ]
  },
  {
   "cell_type": "code",
   "execution_count": 9,
   "id": "d156599a",
   "metadata": {},
   "outputs": [],
   "source": [
    "from collections import Counter"
   ]
  },
  {
   "cell_type": "code",
   "execution_count": 10,
   "id": "de2d98ea",
   "metadata": {},
   "outputs": [
    {
     "data": {
      "text/plain": [
       "Counter({0: 526, 1: 526})"
      ]
     },
     "execution_count": 10,
     "metadata": {},
     "output_type": "execute_result"
    }
   ],
   "source": [
    "Counter(y_data)"
   ]
  },
  {
   "cell_type": "code",
   "execution_count": 11,
   "id": "5f3a9de5",
   "metadata": {},
   "outputs": [],
   "source": [
    "# Feature Scaling by StandardScaler()\n"
   ]
  },
  {
   "cell_type": "code",
   "execution_count": 12,
   "id": "68138e60",
   "metadata": {},
   "outputs": [
    {
     "data": {
      "text/plain": [
       "array([[-0.28079835,  0.6612576 , -0.9101576 , ...,  1.00857094,\n",
       "         1.19691302,  1.08040859],\n",
       "       [-0.16978898,  0.6612576 , -0.9101576 , ..., -2.2413232 ,\n",
       "        -0.74421139,  1.08040859],\n",
       "       [ 1.71737035,  0.6612576 , -0.9101576 , ..., -2.2413232 ,\n",
       "        -0.74421139,  1.08040859],\n",
       "       ...,\n",
       "       [ 0.22962722,  0.6612576 , -0.07419339, ..., -0.61637613,\n",
       "        -0.74421139, -0.30539387],\n",
       "       [ 0.05222977, -1.51749208, -0.9101576 , ..., -0.61637613,\n",
       "         0.22635082,  1.08040859],\n",
       "       [-0.94685459,  0.6612576 , -0.9101576 , ...,  1.00857094,\n",
       "        -0.74421139,  1.08040859]])"
      ]
     },
     "execution_count": 12,
     "metadata": {},
     "output_type": "execute_result"
    }
   ],
   "source": [
    "from sklearn.preprocessing import StandardScaler\n",
    "ss=StandardScaler()\n",
    "x_ss=ss.fit_transform(x_data)\n",
    "x_ss"
   ]
  },
  {
   "cell_type": "code",
   "execution_count": 13,
   "id": "b474470c",
   "metadata": {},
   "outputs": [],
   "source": [
    "y_ss=y_data"
   ]
  },
  {
   "cell_type": "code",
   "execution_count": 14,
   "id": "9acfa873",
   "metadata": {},
   "outputs": [],
   "source": [
    "# slpit data into train and test\n"
   ]
  },
  {
   "cell_type": "code",
   "execution_count": 15,
   "id": "48b1d8ce",
   "metadata": {},
   "outputs": [],
   "source": [
    "from sklearn.model_selection import train_test_split\n",
    "x_train,x_test,y_train,y_test=train_test_split(x_ss,y_ss,test_size=0.2,random_state=100)"
   ]
  },
  {
   "cell_type": "code",
   "execution_count": 16,
   "id": "94629b73",
   "metadata": {},
   "outputs": [
    {
     "name": "stdout",
     "output_type": "stream",
     "text": [
      "Counter({0: 423, 1: 418})\n",
      "Counter({1: 108, 0: 103})\n"
     ]
    }
   ],
   "source": [
    "print(Counter(y_train))\n",
    "print(Counter(y_test))"
   ]
  },
  {
   "cell_type": "code",
   "execution_count": 17,
   "id": "46cdd69c",
   "metadata": {},
   "outputs": [],
   "source": [
    "from sklearn.linear_model import LogisticRegression\n",
    "from sklearn.neighbors import KNeighborsClassifier\n",
    "from sklearn.ensemble import RandomForestClassifier\n",
    "from collections import Counter\n",
    "l=LogisticRegression()\n",
    "k=KNeighborsClassifier()\n",
    "r= RandomForestClassifier()"
   ]
  },
  {
   "cell_type": "code",
   "execution_count": 18,
   "id": "c5bf6a10",
   "metadata": {},
   "outputs": [
    {
     "name": "stdout",
     "output_type": "stream",
     "text": [
      "LogisticRegression()\n",
      "KNeighborsClassifier()\n",
      "RandomForestClassifier()\n"
     ]
    }
   ],
   "source": [
    "print(l.fit(x_train,y_train))\n",
    "print(k.fit(x_train,y_train))\n",
    "print(r.fit(x_train,y_train))"
   ]
  },
  {
   "cell_type": "code",
   "execution_count": 19,
   "id": "49fe148e",
   "metadata": {},
   "outputs": [
    {
     "name": "stdout",
     "output_type": "stream",
     "text": [
      "LogisticRegression \n",
      " Accuracy score:  87.20379146919431 \n",
      "\n",
      "KNeighborsClassifier \n",
      " Accuracy score:  81.51658767772511 \n",
      "\n",
      "RandomForestClassifier \n",
      " Accuracy score:  98.5781990521327 \n",
      "\n"
     ]
    }
   ],
   "source": [
    "from sklearn.metrics import accuracy_score\n",
    "for clf in (l,k,r):\n",
    "    y_pred = clf.predict(x_test)\n",
    "    print(\n",
    "        clf.__class__.__name__,\n",
    "        '\\n',\n",
    "        'Accuracy score: ',accuracy_score(y_test, y_pred)*100, '\\n',\n",
    "       \n",
    "    )"
   ]
  },
  {
   "cell_type": "markdown",
   "id": "3aad3ef4",
   "metadata": {},
   "source": [
    "# In Heart dis LogisticRegression gives the best accuracy=86.73\n"
   ]
  },
  {
   "cell_type": "code",
   "execution_count": null,
   "id": "4347ef64",
   "metadata": {},
   "outputs": [],
   "source": []
  }
 ],
 "metadata": {
  "kernelspec": {
   "display_name": "Python 3 (ipykernel)",
   "language": "python",
   "name": "python3"
  },
  "language_info": {
   "codemirror_mode": {
    "name": "ipython",
    "version": 3
   },
   "file_extension": ".py",
   "mimetype": "text/x-python",
   "name": "python",
   "nbconvert_exporter": "python",
   "pygments_lexer": "ipython3",
   "version": "3.9.7"
  }
 },
 "nbformat": 4,
 "nbformat_minor": 5
}
